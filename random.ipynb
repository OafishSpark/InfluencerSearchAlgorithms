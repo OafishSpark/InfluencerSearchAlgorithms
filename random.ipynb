{
 "cells": [
  {
   "cell_type": "code",
   "execution_count": 1,
   "id": "6c3066dc-4bab-4eaa-b1b4-a501244e1892",
   "metadata": {},
   "outputs": [],
   "source": [
    "import networkx as nx"
   ]
  },
  {
   "cell_type": "code",
   "execution_count": 4,
   "id": "ca41f8c9-3ebd-4bfd-a54b-1bfa5fea5bd4",
   "metadata": {},
   "outputs": [],
   "source": [
    "from models.threshold_model import linear_threshold_model\n",
    "from models.independent_cascade_model import independent_cascade_model\n",
    "\n",
    "from influencers.greedy_kkt import greedy_kkt_influencers\n",
    "from influencers.shapley_value import shapley_value_influencers\n",
    "from influencers.csr import csr_influencers\n",
    "\n",
    "from influencers.improved_centrality import imporved_centrality_influencers\n",
    "from influencers.new_centrality import new_centrality_upgraded_influencers\n",
    "\n",
    "from communities.clustering import clustering_communities\n",
    "from communities.shapley_value import shapley_value_communities\n",
    "\n",
    "from communities.hierarchy import hierarchy_communities_original, hierarchy_communities_improved"
   ]
  },
  {
   "cell_type": "code",
   "execution_count": 5,
   "id": "c5669763-80d8-451b-a43e-be24687c5a99",
   "metadata": {},
   "outputs": [],
   "source": [
    "from base import perform_experiment"
   ]
  },
  {
   "cell_type": "code",
   "execution_count": 55,
   "id": "5162ceb3-bd12-4c29-974e-bee7758d24f6",
   "metadata": {},
   "outputs": [],
   "source": [
    "graph_congress = nx.read_edgelist(\"./congress_network/congress.edgelist\", create_using=nx.DiGraph())"
   ]
  },
  {
   "cell_type": "code",
   "execution_count": 56,
   "id": "bf7adc17-317f-4cfb-87ee-431986d05451",
   "metadata": {},
   "outputs": [
    {
     "name": "stdout",
     "output_type": "stream",
     "text": [
      "0.05902287363979569\n"
     ]
    }
   ],
   "source": [
    "print(nx.density(graph_congress))"
   ]
  },
  {
   "cell_type": "code",
   "execution_count": 57,
   "id": "5914982d-a998-4ba1-87b4-8064b79a6ccb",
   "metadata": {},
   "outputs": [
    {
     "name": "stdout",
     "output_type": "stream",
     "text": [
      "--2024-05-22 05:29:34--  https://snap.stanford.edu/data/email-Eu-core.txt.gz\n",
      "Resolving snap.stanford.edu (snap.stanford.edu)... 171.64.75.80, 198.41.0.4, 170.247.170.2, ...\n",
      "Connecting to snap.stanford.edu (snap.stanford.edu)|171.64.75.80|:443... connected.\n",
      "HTTP request sent, awaiting response... 200 OK\n",
      "Length: 79754 (78K) [application/x-gzip]\n",
      "Saving to: ‘email-Eu-core.txt.gz’\n",
      "\n",
      "email-Eu-core.txt.g 100%[===================>]  77.88K   151KB/s    in 0.5s    \n",
      "\n",
      "2024-05-22 05:29:36 (151 KB/s) - ‘email-Eu-core.txt.gz’ saved [79754/79754]\n",
      "\n"
     ]
    }
   ],
   "source": [
    "!wget https://snap.stanford.edu/data/email-Eu-core.txt.gz\n",
    "!gzip -d ./email-Eu-core.txt.gz"
   ]
  },
  {
   "cell_type": "code",
   "execution_count": 59,
   "id": "aa1fb622-b7e7-4863-b9bc-686b60460194",
   "metadata": {},
   "outputs": [
    {
     "name": "stdout",
     "output_type": "stream",
     "text": [
      "642\n",
      "19\n"
     ]
    }
   ],
   "source": [
    "graph_email = nx.read_edgelist(\"./email-Eu-core.txt\", create_using=nx.DiGraph)\n",
    "print(nx.number_of_selfloops(graph_email))\n",
    "graph_email.remove_edges_from(nx.selfloop_edges(graph_email))\n",
    "print(nx.number_of_isolates(graph_email))\n",
    "graph_email.remove_nodes_from(list(nx.isolates(graph_email)))\n",
    "graph_email = graph_email.subgraph(list(graph_email.nodes())[:125])"
   ]
  },
  {
   "cell_type": "code",
   "execution_count": 61,
   "id": "f6237209-04f7-44cd-9039-3c56e7a61ced",
   "metadata": {},
   "outputs": [
    {
     "data": {
      "text/plain": [
       "('101', '100')"
      ]
     },
     "execution_count": 61,
     "metadata": {},
     "output_type": "execute_result"
    }
   ],
   "source": [
    "list(graph_email.edges)[0]"
   ]
  },
  {
   "cell_type": "code",
   "execution_count": 65,
   "id": "ef71c536-6335-4d3d-b466-1a6a6afc8aac",
   "metadata": {},
   "outputs": [
    {
     "data": {
      "text/plain": [
       "1842"
      ]
     },
     "execution_count": 65,
     "metadata": {},
     "output_type": "execute_result"
    }
   ],
   "source": [
    "len(list(graph_email.edges))"
   ]
  },
  {
   "cell_type": "code",
   "execution_count": 66,
   "id": "1fa5af2b-c870-4774-b747-028778c289b2",
   "metadata": {},
   "outputs": [
    {
     "data": {
      "text/plain": [
       "0.11883870967741936"
      ]
     },
     "execution_count": 66,
     "metadata": {},
     "output_type": "execute_result"
    }
   ],
   "source": [
    "nx.density(graph_email)"
   ]
  }
 ],
 "metadata": {
  "kernelspec": {
   "display_name": "Python 3 (ipykernel)",
   "language": "python",
   "name": "python3"
  },
  "language_info": {
   "codemirror_mode": {
    "name": "ipython",
    "version": 3
   },
   "file_extension": ".py",
   "mimetype": "text/x-python",
   "name": "python",
   "nbconvert_exporter": "python",
   "pygments_lexer": "ipython3",
   "version": "3.12.2"
  }
 },
 "nbformat": 4,
 "nbformat_minor": 5
}
