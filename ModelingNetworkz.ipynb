{
 "cells": [
  {
   "cell_type": "markdown",
   "metadata": {
    "id": "PxkYBEBjd047"
   },
   "source": [
    "Загружаем данные о графе"
   ]
  },
  {
   "cell_type": "raw",
   "metadata": {
    "colab": {
     "base_uri": "https://localhost:8080/"
    },
    "id": "t6r-EIOOc-ub",
    "outputId": "f2cf3aab-fea6-44bb-f940-30af90767b18"
   },
   "source": [
    "!wget https://snap.stanford.edu/data/congress_network.zip\n",
    "!unzip congress_network.zip\n",
    "!rm congress_network.zip"
   ]
  },
  {
   "cell_type": "code",
   "execution_count": 1,
   "metadata": {
    "colab": {
     "base_uri": "https://localhost:8080/"
    },
    "id": "dtX5e4SqZxxR",
    "outputId": "25e5ac2f-92e9-4d4d-d40c-fb0300fe1751"
   },
   "outputs": [
    {
     "name": "stdout",
     "output_type": "stream",
     "text": [
      "--2024-04-19 21:04:09--  https://snap.stanford.edu/data/wiki-Vote.txt.gz\n",
      "Resolving snap.stanford.edu (snap.stanford.edu)... 171.64.75.80, 198.41.0.4, 2001:503:ba3e::2:30, ...\n",
      "Connecting to snap.stanford.edu (snap.stanford.edu)|171.64.75.80|:443... connected.\n",
      "HTTP request sent, awaiting response... 200 OK\n",
      "Length: 290339 (284K) [application/x-gzip]\n",
      "Saving to: ‘wiki-Vote.txt.gz’\n",
      "\n",
      "wiki-Vote.txt.gz    100%[===================>] 283.53K   278KB/s    in 1.0s    \n",
      "\n",
      "2024-04-19 21:04:11 (278 KB/s) - ‘wiki-Vote.txt.gz’ saved [290339/290339]\n",
      "\n",
      "gzip: ./wiki-Vote.txt already exists; do you wish to overwrite (y or n)? ^C\n"
     ]
    }
   ],
   "source": [
    "!wget https://snap.stanford.edu/data/wiki-Vote.txt.gz\n",
    "!gzip -d ./wiki-Vote.txt.gz"
   ]
  },
  {
   "cell_type": "code",
   "execution_count": 2,
   "metadata": {
    "colab": {
     "base_uri": "https://localhost:8080/"
    },
    "id": "N-g7iQI0ZxIS",
    "outputId": "ce249bc2-49fb-4276-8745-5c204f876843"
   },
   "outputs": [
    {
     "name": "stdout",
     "output_type": "stream",
     "text": [
      "Cloning into 'InfluencerSearchAlgorithms'...\n",
      "remote: Enumerating objects: 96, done.\u001b[K\n",
      "remote: Counting objects: 100% (96/96), done.\u001b[K\n",
      "remote: Compressing objects: 100% (63/63), done.\u001b[K\n",
      "remote: Total 96 (delta 40), reused 84 (delta 28), pack-reused 0\u001b[K\n",
      "Receiving objects: 100% (96/96), 16.10 KiB | 1.46 MiB/s, done.\n",
      "Resolving deltas: 100% (40/40), done.\n",
      "mv: cannot stat '/content/InfluencerSearchAlgorithms/*': No such file or directory\n"
     ]
    }
   ],
   "source": [
    "!git clone https://github.com/OafishSpark/InfluencerSearchAlgorithms\n",
    "\n",
    "!mv /content/InfluencerSearchAlgorithms/* /content/\n",
    "!rm -rf /content/InfluencerSearchAlgorithms"
   ]
  },
  {
   "cell_type": "code",
   "execution_count": 1,
   "metadata": {
    "id": "FLypI0waFfuC"
   },
   "outputs": [],
   "source": [
    "import networkx as nx\n",
    "\n",
    "import numpy as np\n",
    "from numpy import random\n",
    "\n",
    "from tqdm import tqdm"
   ]
  },
  {
   "cell_type": "code",
   "execution_count": 2,
   "metadata": {
    "id": "7Wh0MhH_DP84"
   },
   "outputs": [],
   "source": [
    "from models.threshold_model import linear_threshold_model\n",
    "from models.sir_model import sir_model, sir_inf_model\n",
    "\n",
    "from influencers.greedy_kkt import greedy_kkt_influencers\n",
    "from influencers.centrality import centrality_influencers\n",
    "from influencers.shapley_value import shapley_value_influencers\n",
    "from influencers.csr import csr_influencers\n",
    "from influencers.hierarchy import hierarchy_influencers_dull, hierarchy_influencers_with_csr, hierarchy_influencers_with_centrality\n",
    "\n",
    "from communities.clustering import clustering_communities\n",
    "from communities.shapley_value import shapley_value_communities\n",
    "\n",
    "from communities.hierarchy import hierarchy_communities_original, hierarchy_communities_improved"
   ]
  },
  {
   "cell_type": "code",
   "execution_count": 3,
   "metadata": {
    "id": "PDdac5TXi1qz"
   },
   "outputs": [],
   "source": [
    "graph_congress = nx.read_edgelist(\"./congress_network/congress.edgelist\", create_using=nx.DiGraph())"
   ]
  },
  {
   "cell_type": "code",
   "execution_count": 4,
   "metadata": {
    "id": "dfAvZd9yi6ks"
   },
   "outputs": [],
   "source": [
    "graph_wiki_votes = nx.read_edgelist(\"./wiki-Vote.txt\", create_using=nx.DiGraph())\n",
    "nx.set_edge_attributes(graph_wiki_votes, 1, 'weight')"
   ]
  },
  {
   "cell_type": "code",
   "execution_count": 5,
   "metadata": {
    "id": "4P8lR_RxxCdm"
   },
   "outputs": [],
   "source": [
    "subgraph_wiki_votes = nx.subgraph(graph_wiki_votes, list(graph_wiki_votes.nodes)[:300])"
   ]
  },
  {
   "cell_type": "code",
   "execution_count": 6,
   "metadata": {
    "id": "As8KcqvS8Ywg"
   },
   "outputs": [],
   "source": [
    "graphs = {\n",
    "  \"graph congress\": graph_congress,\n",
    "  \"graph wiki votes\": subgraph_wiki_votes,\n",
    "}"
   ]
  },
  {
   "cell_type": "code",
   "execution_count": 7,
   "metadata": {
    "colab": {
     "base_uri": "https://localhost:8080/"
    },
    "id": "KE2k0ASdFywJ",
    "outputId": "bac09f9f-bfa6-4568-848f-e86a6b5740f6"
   },
   "outputs": [
    {
     "name": "stdout",
     "output_type": "stream",
     "text": [
      "graph congress\n",
      "475\n",
      "13289\n",
      "0.05902287363979569\n",
      "7\n",
      "\n",
      "graph wiki votes\n",
      "300\n",
      "3640\n",
      "0.04057971014492753\n",
      "123\n",
      "\n"
     ]
    }
   ],
   "source": [
    "for name in graphs.keys():\n",
    "  print(name)\n",
    "  graph = graphs[name]\n",
    "  print(graph.number_of_nodes())\n",
    "  print(graph.number_of_edges())\n",
    "  print(nx.density(graph))\n",
    "  print(nx.number_strongly_connected_components(graph))\n",
    "  print(\"\")"
   ]
  },
  {
   "cell_type": "code",
   "execution_count": 8,
   "metadata": {
    "id": "a1d8VYl9cAlT"
   },
   "outputs": [],
   "source": [
    "graph = graphs[\"graph congress\"]"
   ]
  },
  {
   "cell_type": "markdown",
   "metadata": {
    "id": "Lee7PpY8GeUx"
   },
   "source": [
    "Communities"
   ]
  },
  {
   "cell_type": "code",
   "execution_count": null,
   "metadata": {
    "id": "BpVAupU-GdvK"
   },
   "outputs": [],
   "source": [
    "communities = {\n",
    "    \"communities shapley\": shapley_value_communities(graph, 10),\n",
    "    \"communities clusters\": clustering_communities(graph, 10),\n",
    "    \"communities hierarchy original\": hierarchy_communities_original(graph, 10),\n",
    "    \"communities hierarchy improved\": hierarchy_communities_improved(graph, 10)\n",
    "}"
   ]
  },
  {
   "cell_type": "markdown",
   "metadata": {
    "id": "WW8FfZDrHRsy"
   },
   "source": [
    "Influencers"
   ]
  },
  {
   "cell_type": "code",
   "execution_count": null,
   "metadata": {
    "id": "UQvxq6SFHVs5"
   },
   "outputs": [],
   "source": [
    "influencers_pack = {\n",
    "    \"influencers hierarchy with centrality\": hierarchy_influencers_with_centrality(graph, 10),\n",
    "    \"influencers shapley\": shapley_value_influencers(graph, 10),\n",
    "    \"influencers centrality\": centrality_influencers(graph, 10),\n",
    "    \"influencers kkt\": greedy_kkt_influencers(graph, 10),\n",
    "    \"influencers hierarchy orig\": hierarchy_influencers_dull(graph, 10),\n",
    "    \"influencers hierarchy improved\": hierarchy_influencers_with_csr(graph, 10),\n",
    "}"
   ]
  },
  {
   "cell_type": "code",
   "execution_count": null,
   "metadata": {
    "id": "NawSsEy6JsFK"
   },
   "outputs": [],
   "source": [
    "influencers_csr = dict(zip(\n",
    "    ['csr ' + name for name in communities.keys()],\n",
    "    [csr_influencers(graph, 10, community) for community in communities.values()]\n",
    "))"
   ]
  },
  {
   "cell_type": "code",
   "execution_count": 50,
   "metadata": {
    "id": "K7ogfT5RS8gC"
   },
   "outputs": [],
   "source": [
    "influencers_pack.update(influencers_csr)"
   ]
  },
  {
   "cell_type": "code",
   "execution_count": 51,
   "metadata": {
    "id": "tyhhiiGaL2mi"
   },
   "outputs": [],
   "source": [
    "def perform_experiment(\n",
    "    n_experiments: int,\n",
    "    graph: nx.DiGraph,\n",
    "    influencers_dict: dict,\n",
    "    time: int = 5,\n",
    ") -> dict:\n",
    "  nodes = list(graph.nodes)\n",
    "  n_nodes = len(nodes)\n",
    "  results = dict(zip(\n",
    "    [\"linear threshold model\", \"SIR model\", \"Infinite SIR model\"],\n",
    "    [dict([(name, 0) for name in influencers_dict.keys()]) for _ in range(3)]\n",
    "  ))\n",
    "  for _ in tqdm(range(n_experiments)):\n",
    "    theta = dict(zip(list(graph.nodes), random.uniform(0.01, 0.99, graph.number_of_nodes())))\n",
    "    # infection_prob = dict(zip(nodes, random.uniform(0.01, 0.99, n_nodes)))\n",
    "    # recover_prob = dict(zip(nodes, random.uniform(0.01, 0.99, n_nodes)))\n",
    "    for name in influencers_dict.keys():\n",
    "      influencers = influencers_dict[name]\n",
    "      results['linear threshold model'][name] += len(linear_threshold_model(graph, influencers, time, theta)) / n_experiments\n",
    "      results['SIR model'][name] += len(sir_model(graph, influencers, time)) / n_experiments\n",
    "  for name in influencers_dict.keys():\n",
    "    influencers = influencers_dict[name]\n",
    "    results['Infinite SIR model'][name] += len(sir_inf_model(graph, influencers, time))\n",
    "  return results"
   ]
  },
  {
   "cell_type": "code",
   "execution_count": 63,
   "metadata": {
    "id": "xqxXdwTkKTXJ"
   },
   "outputs": [],
   "source": [
    "number_of_experiments = 10"
   ]
  },
  {
   "cell_type": "code",
   "execution_count": 65,
   "metadata": {
    "colab": {
     "base_uri": "https://localhost:8080/"
    },
    "id": "tBtDictGNZmJ",
    "outputId": "0659b994-3120-438f-8653-262ba4346af1"
   },
   "outputs": [
    {
     "name": "stderr",
     "output_type": "stream",
     "text": [
      "100%|█████████████████████████████████████████████████████████████████████████████████████████████████████████████████████████████████████████████████████████████████████████████| 10/10 [00:01<00:00,  8.31it/s]\n",
      "100%|█████████████████████████████████████████████████████████████████████████████████████████████████████████████████████████████████████████████████████████████████████████████| 10/10 [00:03<00:00,  2.63it/s]\n",
      "100%|█████████████████████████████████████████████████████████████████████████████████████████████████████████████████████████████████████████████████████████████████████████████| 10/10 [00:07<00:00,  1.33it/s]\n",
      "100%|█████████████████████████████████████████████████████████████████████████████████████████████████████████████████████████████████████████████████████████████████████████████| 10/10 [00:11<00:00,  1.15s/it]\n",
      "100%|█████████████████████████████████████████████████████████████████████████████████████████████████████████████████████████████████████████████████████████████████████████████| 10/10 [00:15<00:00,  1.58s/it]\n",
      "100%|█████████████████████████████████████████████████████████████████████████████████████████████████████████████████████████████████████████████████████████████████████████████| 10/10 [00:19<00:00,  1.96s/it]\n",
      "100%|█████████████████████████████████████████████████████████████████████████████████████████████████████████████████████████████████████████████████████████████████████████████| 10/10 [00:23<00:00,  2.32s/it]\n",
      "100%|█████████████████████████████████████████████████████████████████████████████████████████████████████████████████████████████████████████████████████████████████████████████| 10/10 [00:27<00:00,  2.71s/it]\n",
      "100%|█████████████████████████████████████████████████████████████████████████████████████████████████████████████████████████████████████████████████████████████████████████████| 10/10 [00:29<00:00,  3.00s/it]\n",
      "100%|█████████████████████████████████████████████████████████████████████████████████████████████████████████████████████████████████████████████████████████████████████████████| 10/10 [00:34<00:00,  3.44s/it]\n"
     ]
    }
   ],
   "source": [
    "times = [2*i + 1 for i in range(10)]\n",
    "results = dict(zip(\n",
    "    times,\n",
    "    [perform_experiment(number_of_experiments, graph, influencers_pack, time) for time in times]\n",
    "))"
   ]
  },
  {
   "cell_type": "code",
   "execution_count": 66,
   "metadata": {},
   "outputs": [
    {
     "data": {
      "text/plain": [
       "[1, 3, 5, 7, 9, 11, 13, 15, 17, 19]"
      ]
     },
     "execution_count": 66,
     "metadata": {},
     "output_type": "execute_result"
    }
   ],
   "source": [
    "times"
   ]
  },
  {
   "cell_type": "code",
   "execution_count": 67,
   "metadata": {
    "colab": {
     "base_uri": "https://localhost:8080/"
    },
    "id": "XaHmK8BIXSoa",
    "outputId": "feccaf8e-0e15-48c4-dd1c-5afd5d11fd02"
   },
   "outputs": [
    {
     "data": {
      "text/plain": [
       "{1: {'linear threshold model': {'influencers hierarchy with centrality': 23.599999999999998,\n",
       "   'influencers shapley': 28.599999999999998,\n",
       "   'influencers centrality': 57.00000000000001,\n",
       "   'influencers kkt': 27.200000000000003,\n",
       "   'influencers hierarchy orig': 17.900000000000002,\n",
       "   'influencers hierarchy improved': 23.599999999999998,\n",
       "   'csr communities shapley': 28.8,\n",
       "   'csr communities clusters': 16.700000000000003,\n",
       "   'csr communities hierarchy original': 13.600000000000001,\n",
       "   'csr communities hierarchy improved': 24.0},\n",
       "  'SIR model': {'influencers hierarchy with centrality': 163.9,\n",
       "   'influencers shapley': 110.30000000000001,\n",
       "   'influencers centrality': 303.8,\n",
       "   'influencers kkt': 125.20000000000002,\n",
       "   'influencers hierarchy orig': 79.4,\n",
       "   'influencers hierarchy improved': 163.2,\n",
       "   'csr communities shapley': 177.60000000000002,\n",
       "   'csr communities clusters': 111.79999999999998,\n",
       "   'csr communities hierarchy original': 33.5,\n",
       "   'csr communities hierarchy improved': 130.7},\n",
       "  'Infinite SIR model': {'influencers hierarchy with centrality': 269,\n",
       "   'influencers shapley': 164,\n",
       "   'influencers centrality': 380,\n",
       "   'influencers kkt': 201,\n",
       "   'influencers hierarchy orig': 128,\n",
       "   'influencers hierarchy improved': 269,\n",
       "   'csr communities shapley': 264,\n",
       "   'csr communities clusters': 179,\n",
       "   'csr communities hierarchy original': 52,\n",
       "   'csr communities hierarchy improved': 173}},\n",
       " 3: {'linear threshold model': {'influencers hierarchy with centrality': 56.4,\n",
       "   'influencers shapley': 41.800000000000004,\n",
       "   'influencers centrality': 131.0,\n",
       "   'influencers kkt': 40.900000000000006,\n",
       "   'influencers hierarchy orig': 28.5,\n",
       "   'influencers hierarchy improved': 56.4,\n",
       "   'csr communities shapley': 50.699999999999996,\n",
       "   'csr communities clusters': 35.7,\n",
       "   'csr communities hierarchy original': 14.3,\n",
       "   'csr communities hierarchy improved': 51.8},\n",
       "  'SIR model': {'influencers hierarchy with centrality': 473.09999999999997,\n",
       "   'influencers shapley': 465.40000000000003,\n",
       "   'influencers centrality': 467.4999999999999,\n",
       "   'influencers kkt': 472.4,\n",
       "   'influencers hierarchy orig': 471.09999999999997,\n",
       "   'influencers hierarchy improved': 471.40000000000003,\n",
       "   'csr communities shapley': 466.00000000000006,\n",
       "   'csr communities clusters': 463.99999999999994,\n",
       "   'csr communities hierarchy original': 451.7,\n",
       "   'csr communities hierarchy improved': 462.69999999999993},\n",
       "  'Infinite SIR model': {'influencers hierarchy with centrality': 475,\n",
       "   'influencers shapley': 468,\n",
       "   'influencers centrality': 469,\n",
       "   'influencers kkt': 475,\n",
       "   'influencers hierarchy orig': 475,\n",
       "   'influencers hierarchy improved': 475,\n",
       "   'csr communities shapley': 468,\n",
       "   'csr communities clusters': 468,\n",
       "   'csr communities hierarchy original': 469,\n",
       "   'csr communities hierarchy improved': 468}},\n",
       " 5: {'linear threshold model': {'influencers hierarchy with centrality': 78.8,\n",
       "   'influencers shapley': 45.4,\n",
       "   'influencers centrality': 183.00000000000003,\n",
       "   'influencers kkt': 57.3,\n",
       "   'influencers hierarchy orig': 34.6,\n",
       "   'influencers hierarchy improved': 78.8,\n",
       "   'csr communities shapley': 93.3,\n",
       "   'csr communities clusters': 41.5,\n",
       "   'csr communities hierarchy original': 14.799999999999999,\n",
       "   'csr communities hierarchy improved': 82.49999999999999},\n",
       "  'SIR model': {'influencers hierarchy with centrality': 474.7,\n",
       "   'influencers shapley': 468.2,\n",
       "   'influencers centrality': 468.5,\n",
       "   'influencers kkt': 474.0999999999999,\n",
       "   'influencers hierarchy orig': 474.9,\n",
       "   'influencers hierarchy improved': 474.8,\n",
       "   'csr communities shapley': 468.69999999999993,\n",
       "   'csr communities clusters': 468.5,\n",
       "   'csr communities hierarchy original': 470.5,\n",
       "   'csr communities hierarchy improved': 468.69999999999993},\n",
       "  'Infinite SIR model': {'influencers hierarchy with centrality': 475,\n",
       "   'influencers shapley': 469,\n",
       "   'influencers centrality': 469,\n",
       "   'influencers kkt': 475,\n",
       "   'influencers hierarchy orig': 475,\n",
       "   'influencers hierarchy improved': 475,\n",
       "   'csr communities shapley': 469,\n",
       "   'csr communities clusters': 469,\n",
       "   'csr communities hierarchy original': 471,\n",
       "   'csr communities hierarchy improved': 469}},\n",
       " 7: {'linear threshold model': {'influencers hierarchy with centrality': 59.3,\n",
       "   'influencers shapley': 88.2,\n",
       "   'influencers centrality': 183.6,\n",
       "   'influencers kkt': 73.19999999999997,\n",
       "   'influencers hierarchy orig': 31.3,\n",
       "   'influencers hierarchy improved': 59.3,\n",
       "   'csr communities shapley': 96.1,\n",
       "   'csr communities clusters': 52.0,\n",
       "   'csr communities hierarchy original': 29.099999999999998,\n",
       "   'csr communities hierarchy improved': 75.1},\n",
       "  'SIR model': {'influencers hierarchy with centrality': 475.0,\n",
       "   'influencers shapley': 468.8999999999999,\n",
       "   'influencers centrality': 468.8999999999999,\n",
       "   'influencers kkt': 475.0,\n",
       "   'influencers hierarchy orig': 475.0,\n",
       "   'influencers hierarchy improved': 475.0,\n",
       "   'csr communities shapley': 468.9999999999999,\n",
       "   'csr communities clusters': 468.79999999999995,\n",
       "   'csr communities hierarchy original': 470.80000000000007,\n",
       "   'csr communities hierarchy improved': 468.8999999999999},\n",
       "  'Infinite SIR model': {'influencers hierarchy with centrality': 475,\n",
       "   'influencers shapley': 469,\n",
       "   'influencers centrality': 469,\n",
       "   'influencers kkt': 475,\n",
       "   'influencers hierarchy orig': 475,\n",
       "   'influencers hierarchy improved': 475,\n",
       "   'csr communities shapley': 469,\n",
       "   'csr communities clusters': 469,\n",
       "   'csr communities hierarchy original': 471,\n",
       "   'csr communities hierarchy improved': 469}},\n",
       " 9: {'linear threshold model': {'influencers hierarchy with centrality': 95.10000000000001,\n",
       "   'influencers shapley': 82.09999999999998,\n",
       "   'influencers centrality': 250.39999999999998,\n",
       "   'influencers kkt': 86.3,\n",
       "   'influencers hierarchy orig': 33.300000000000004,\n",
       "   'influencers hierarchy improved': 95.10000000000001,\n",
       "   'csr communities shapley': 95.9,\n",
       "   'csr communities clusters': 45.6,\n",
       "   'csr communities hierarchy original': 12.799999999999999,\n",
       "   'csr communities hierarchy improved': 89.2},\n",
       "  'SIR model': {'influencers hierarchy with centrality': 475.0,\n",
       "   'influencers shapley': 468.9999999999999,\n",
       "   'influencers centrality': 468.9999999999999,\n",
       "   'influencers kkt': 475.0,\n",
       "   'influencers hierarchy orig': 475.0,\n",
       "   'influencers hierarchy improved': 475.0,\n",
       "   'csr communities shapley': 468.8999999999999,\n",
       "   'csr communities clusters': 468.9999999999999,\n",
       "   'csr communities hierarchy original': 471.0000000000001,\n",
       "   'csr communities hierarchy improved': 468.7999999999999},\n",
       "  'Infinite SIR model': {'influencers hierarchy with centrality': 475,\n",
       "   'influencers shapley': 469,\n",
       "   'influencers centrality': 469,\n",
       "   'influencers kkt': 475,\n",
       "   'influencers hierarchy orig': 475,\n",
       "   'influencers hierarchy improved': 475,\n",
       "   'csr communities shapley': 469,\n",
       "   'csr communities clusters': 469,\n",
       "   'csr communities hierarchy original': 471,\n",
       "   'csr communities hierarchy improved': 469}},\n",
       " 11: {'linear threshold model': {'influencers hierarchy with centrality': 105.9,\n",
       "   'influencers shapley': 109.19999999999999,\n",
       "   'influencers centrality': 246.99999999999997,\n",
       "   'influencers kkt': 83.69999999999999,\n",
       "   'influencers hierarchy orig': 33.9,\n",
       "   'influencers hierarchy improved': 105.9,\n",
       "   'csr communities shapley': 111.9,\n",
       "   'csr communities clusters': 71.80000000000001,\n",
       "   'csr communities hierarchy original': 27.9,\n",
       "   'csr communities hierarchy improved': 86.89999999999999},\n",
       "  'SIR model': {'influencers hierarchy with centrality': 475.0,\n",
       "   'influencers shapley': 468.9999999999999,\n",
       "   'influencers centrality': 468.9999999999999,\n",
       "   'influencers kkt': 475.0,\n",
       "   'influencers hierarchy orig': 475.0,\n",
       "   'influencers hierarchy improved': 474.9,\n",
       "   'csr communities shapley': 468.9999999999999,\n",
       "   'csr communities clusters': 468.8999999999999,\n",
       "   'csr communities hierarchy original': 471.0000000000001,\n",
       "   'csr communities hierarchy improved': 468.9999999999999},\n",
       "  'Infinite SIR model': {'influencers hierarchy with centrality': 475,\n",
       "   'influencers shapley': 469,\n",
       "   'influencers centrality': 469,\n",
       "   'influencers kkt': 475,\n",
       "   'influencers hierarchy orig': 475,\n",
       "   'influencers hierarchy improved': 475,\n",
       "   'csr communities shapley': 469,\n",
       "   'csr communities clusters': 469,\n",
       "   'csr communities hierarchy original': 471,\n",
       "   'csr communities hierarchy improved': 469}},\n",
       " 13: {'linear threshold model': {'influencers hierarchy with centrality': 87.19999999999999,\n",
       "   'influencers shapley': 85.80000000000001,\n",
       "   'influencers centrality': 234.3,\n",
       "   'influencers kkt': 90.0,\n",
       "   'influencers hierarchy orig': 33.3,\n",
       "   'influencers hierarchy improved': 87.19999999999999,\n",
       "   'csr communities shapley': 112.10000000000001,\n",
       "   'csr communities clusters': 58.7,\n",
       "   'csr communities hierarchy original': 17.2,\n",
       "   'csr communities hierarchy improved': 76.49999999999999},\n",
       "  'SIR model': {'influencers hierarchy with centrality': 475.0,\n",
       "   'influencers shapley': 468.9999999999999,\n",
       "   'influencers centrality': 468.9999999999999,\n",
       "   'influencers kkt': 475.0,\n",
       "   'influencers hierarchy orig': 475.0,\n",
       "   'influencers hierarchy improved': 475.0,\n",
       "   'csr communities shapley': 468.9999999999999,\n",
       "   'csr communities clusters': 468.9999999999999,\n",
       "   'csr communities hierarchy original': 471.0000000000001,\n",
       "   'csr communities hierarchy improved': 468.9999999999999},\n",
       "  'Infinite SIR model': {'influencers hierarchy with centrality': 475,\n",
       "   'influencers shapley': 469,\n",
       "   'influencers centrality': 469,\n",
       "   'influencers kkt': 475,\n",
       "   'influencers hierarchy orig': 475,\n",
       "   'influencers hierarchy improved': 475,\n",
       "   'csr communities shapley': 469,\n",
       "   'csr communities clusters': 469,\n",
       "   'csr communities hierarchy original': 471,\n",
       "   'csr communities hierarchy improved': 469}},\n",
       " 15: {'linear threshold model': {'influencers hierarchy with centrality': 93.1,\n",
       "   'influencers shapley': 84.7,\n",
       "   'influencers centrality': 224.8,\n",
       "   'influencers kkt': 83.3,\n",
       "   'influencers hierarchy orig': 43.300000000000004,\n",
       "   'influencers hierarchy improved': 93.1,\n",
       "   'csr communities shapley': 101.2,\n",
       "   'csr communities clusters': 37.800000000000004,\n",
       "   'csr communities hierarchy original': 15.8,\n",
       "   'csr communities hierarchy improved': 64.3},\n",
       "  'SIR model': {'influencers hierarchy with centrality': 475.0,\n",
       "   'influencers shapley': 468.9999999999999,\n",
       "   'influencers centrality': 468.9999999999999,\n",
       "   'influencers kkt': 475.0,\n",
       "   'influencers hierarchy orig': 475.0,\n",
       "   'influencers hierarchy improved': 475.0,\n",
       "   'csr communities shapley': 468.9999999999999,\n",
       "   'csr communities clusters': 468.9999999999999,\n",
       "   'csr communities hierarchy original': 471.0000000000001,\n",
       "   'csr communities hierarchy improved': 468.9999999999999},\n",
       "  'Infinite SIR model': {'influencers hierarchy with centrality': 475,\n",
       "   'influencers shapley': 469,\n",
       "   'influencers centrality': 469,\n",
       "   'influencers kkt': 475,\n",
       "   'influencers hierarchy orig': 475,\n",
       "   'influencers hierarchy improved': 475,\n",
       "   'csr communities shapley': 469,\n",
       "   'csr communities clusters': 469,\n",
       "   'csr communities hierarchy original': 471,\n",
       "   'csr communities hierarchy improved': 469}},\n",
       " 17: {'linear threshold model': {'influencers hierarchy with centrality': 63.5,\n",
       "   'influencers shapley': 74.9,\n",
       "   'influencers centrality': 264.1,\n",
       "   'influencers kkt': 62.2,\n",
       "   'influencers hierarchy orig': 23.9,\n",
       "   'influencers hierarchy improved': 63.5,\n",
       "   'csr communities shapley': 88.6,\n",
       "   'csr communities clusters': 29.500000000000004,\n",
       "   'csr communities hierarchy original': 14.899999999999999,\n",
       "   'csr communities hierarchy improved': 68.1},\n",
       "  'SIR model': {'influencers hierarchy with centrality': 475.0,\n",
       "   'influencers shapley': 468.9999999999999,\n",
       "   'influencers centrality': 468.9999999999999,\n",
       "   'influencers kkt': 475.0,\n",
       "   'influencers hierarchy orig': 475.0,\n",
       "   'influencers hierarchy improved': 475.0,\n",
       "   'csr communities shapley': 468.9999999999999,\n",
       "   'csr communities clusters': 468.9999999999999,\n",
       "   'csr communities hierarchy original': 471.0000000000001,\n",
       "   'csr communities hierarchy improved': 468.9999999999999},\n",
       "  'Infinite SIR model': {'influencers hierarchy with centrality': 475,\n",
       "   'influencers shapley': 469,\n",
       "   'influencers centrality': 469,\n",
       "   'influencers kkt': 475,\n",
       "   'influencers hierarchy orig': 475,\n",
       "   'influencers hierarchy improved': 475,\n",
       "   'csr communities shapley': 469,\n",
       "   'csr communities clusters': 469,\n",
       "   'csr communities hierarchy original': 471,\n",
       "   'csr communities hierarchy improved': 469}},\n",
       " 19: {'linear threshold model': {'influencers hierarchy with centrality': 146.79999999999998,\n",
       "   'influencers shapley': 96.49999999999999,\n",
       "   'influencers centrality': 254.1,\n",
       "   'influencers kkt': 93.80000000000001,\n",
       "   'influencers hierarchy orig': 91.0,\n",
       "   'influencers hierarchy improved': 146.79999999999998,\n",
       "   'csr communities shapley': 132.1,\n",
       "   'csr communities clusters': 49.900000000000006,\n",
       "   'csr communities hierarchy original': 15.000000000000002,\n",
       "   'csr communities hierarchy improved': 97.1},\n",
       "  'SIR model': {'influencers hierarchy with centrality': 475.0,\n",
       "   'influencers shapley': 468.9999999999999,\n",
       "   'influencers centrality': 468.9999999999999,\n",
       "   'influencers kkt': 475.0,\n",
       "   'influencers hierarchy orig': 475.0,\n",
       "   'influencers hierarchy improved': 475.0,\n",
       "   'csr communities shapley': 468.9999999999999,\n",
       "   'csr communities clusters': 468.9999999999999,\n",
       "   'csr communities hierarchy original': 471.0000000000001,\n",
       "   'csr communities hierarchy improved': 468.9999999999999},\n",
       "  'Infinite SIR model': {'influencers hierarchy with centrality': 475,\n",
       "   'influencers shapley': 469,\n",
       "   'influencers centrality': 469,\n",
       "   'influencers kkt': 475,\n",
       "   'influencers hierarchy orig': 475,\n",
       "   'influencers hierarchy improved': 475,\n",
       "   'csr communities shapley': 469,\n",
       "   'csr communities clusters': 469,\n",
       "   'csr communities hierarchy original': 471,\n",
       "   'csr communities hierarchy improved': 469}}}"
      ]
     },
     "execution_count": 67,
     "metadata": {},
     "output_type": "execute_result"
    }
   ],
   "source": [
    "results"
   ]
  },
  {
   "cell_type": "code",
   "execution_count": 70,
   "metadata": {
    "colab": {
     "base_uri": "https://localhost:8080/"
    },
    "id": "FAElak-TSpeC",
    "outputId": "d3cf50da-85c6-40a2-b8f9-92ed9c252a78"
   },
   "outputs": [
    {
     "name": "stdout",
     "output_type": "stream",
     "text": [
      "linear threshold model:\n",
      "influencers centrality: 57.00000000000001\n",
      "csr communities shapley: 28.8\n",
      "influencers shapley: 28.599999999999998\n",
      "influencers kkt: 27.200000000000003\n",
      "csr communities hierarchy improved: 24.0\n",
      "\n",
      "\n",
      "SIR model:\n",
      "influencers centrality: 303.8\n",
      "csr communities shapley: 177.60000000000002\n",
      "influencers hierarchy with centrality: 163.9\n",
      "influencers hierarchy improved: 163.2\n",
      "csr communities hierarchy improved: 130.7\n",
      "\n",
      "\n",
      "Infinite SIR model:\n",
      "influencers centrality: 380\n",
      "influencers hierarchy with centrality: 269\n",
      "influencers hierarchy improved: 269\n",
      "csr communities shapley: 264\n",
      "influencers kkt: 201\n",
      "\n",
      "\n",
      "linear threshold model:\n",
      "influencers centrality: 131.0\n",
      "influencers hierarchy with centrality: 56.4\n",
      "influencers hierarchy improved: 56.4\n",
      "csr communities hierarchy improved: 51.8\n",
      "csr communities shapley: 50.699999999999996\n",
      "\n",
      "\n",
      "SIR model:\n",
      "influencers hierarchy with centrality: 473.09999999999997\n",
      "influencers kkt: 472.4\n",
      "influencers hierarchy improved: 471.40000000000003\n",
      "influencers hierarchy orig: 471.09999999999997\n",
      "influencers centrality: 467.4999999999999\n",
      "\n",
      "\n",
      "Infinite SIR model:\n",
      "influencers hierarchy with centrality: 475\n",
      "influencers kkt: 475\n",
      "influencers hierarchy orig: 475\n",
      "influencers hierarchy improved: 475\n",
      "influencers centrality: 469\n",
      "\n",
      "\n",
      "linear threshold model:\n",
      "influencers centrality: 183.00000000000003\n",
      "csr communities shapley: 93.3\n",
      "csr communities hierarchy improved: 82.49999999999999\n",
      "influencers hierarchy with centrality: 78.8\n",
      "influencers hierarchy improved: 78.8\n",
      "\n",
      "\n",
      "SIR model:\n",
      "influencers hierarchy orig: 474.9\n",
      "influencers hierarchy improved: 474.8\n",
      "influencers hierarchy with centrality: 474.7\n",
      "influencers kkt: 474.0999999999999\n",
      "csr communities hierarchy original: 470.5\n",
      "\n",
      "\n",
      "Infinite SIR model:\n",
      "influencers hierarchy with centrality: 475\n",
      "influencers kkt: 475\n",
      "influencers hierarchy orig: 475\n",
      "influencers hierarchy improved: 475\n",
      "csr communities hierarchy original: 471\n",
      "\n",
      "\n",
      "linear threshold model:\n",
      "influencers centrality: 183.6\n",
      "csr communities shapley: 96.1\n",
      "influencers shapley: 88.2\n",
      "csr communities hierarchy improved: 75.1\n",
      "influencers kkt: 73.19999999999997\n",
      "\n",
      "\n",
      "SIR model:\n",
      "influencers hierarchy with centrality: 475.0\n",
      "influencers kkt: 475.0\n",
      "influencers hierarchy orig: 475.0\n",
      "influencers hierarchy improved: 475.0\n",
      "csr communities hierarchy original: 470.80000000000007\n",
      "\n",
      "\n",
      "Infinite SIR model:\n",
      "influencers hierarchy with centrality: 475\n",
      "influencers kkt: 475\n",
      "influencers hierarchy orig: 475\n",
      "influencers hierarchy improved: 475\n",
      "csr communities hierarchy original: 471\n",
      "\n",
      "\n",
      "linear threshold model:\n",
      "influencers centrality: 250.39999999999998\n",
      "csr communities shapley: 95.9\n",
      "influencers hierarchy with centrality: 95.10000000000001\n",
      "influencers hierarchy improved: 95.10000000000001\n",
      "csr communities hierarchy improved: 89.2\n",
      "\n",
      "\n",
      "SIR model:\n",
      "influencers hierarchy with centrality: 475.0\n",
      "influencers kkt: 475.0\n",
      "influencers hierarchy orig: 475.0\n",
      "influencers hierarchy improved: 475.0\n",
      "csr communities hierarchy original: 471.0000000000001\n",
      "\n",
      "\n",
      "Infinite SIR model:\n",
      "influencers hierarchy with centrality: 475\n",
      "influencers kkt: 475\n",
      "influencers hierarchy orig: 475\n",
      "influencers hierarchy improved: 475\n",
      "csr communities hierarchy original: 471\n",
      "\n",
      "\n",
      "linear threshold model:\n",
      "influencers centrality: 246.99999999999997\n",
      "csr communities shapley: 111.9\n",
      "influencers shapley: 109.19999999999999\n",
      "influencers hierarchy with centrality: 105.9\n",
      "influencers hierarchy improved: 105.9\n",
      "\n",
      "\n",
      "SIR model:\n",
      "influencers hierarchy with centrality: 475.0\n",
      "influencers kkt: 475.0\n",
      "influencers hierarchy orig: 475.0\n",
      "influencers hierarchy improved: 474.9\n",
      "csr communities hierarchy original: 471.0000000000001\n",
      "\n",
      "\n",
      "Infinite SIR model:\n",
      "influencers hierarchy with centrality: 475\n",
      "influencers kkt: 475\n",
      "influencers hierarchy orig: 475\n",
      "influencers hierarchy improved: 475\n",
      "csr communities hierarchy original: 471\n",
      "\n",
      "\n",
      "linear threshold model:\n",
      "influencers centrality: 234.3\n",
      "csr communities shapley: 112.10000000000001\n",
      "influencers kkt: 90.0\n",
      "influencers hierarchy with centrality: 87.19999999999999\n",
      "influencers hierarchy improved: 87.19999999999999\n",
      "\n",
      "\n",
      "SIR model:\n",
      "influencers hierarchy with centrality: 475.0\n",
      "influencers kkt: 475.0\n",
      "influencers hierarchy orig: 475.0\n",
      "influencers hierarchy improved: 475.0\n",
      "csr communities hierarchy original: 471.0000000000001\n",
      "\n",
      "\n",
      "Infinite SIR model:\n",
      "influencers hierarchy with centrality: 475\n",
      "influencers kkt: 475\n",
      "influencers hierarchy orig: 475\n",
      "influencers hierarchy improved: 475\n",
      "csr communities hierarchy original: 471\n",
      "\n",
      "\n",
      "linear threshold model:\n",
      "influencers centrality: 224.8\n",
      "csr communities shapley: 101.2\n",
      "influencers hierarchy with centrality: 93.1\n",
      "influencers hierarchy improved: 93.1\n",
      "influencers shapley: 84.7\n",
      "\n",
      "\n",
      "SIR model:\n",
      "influencers hierarchy with centrality: 475.0\n",
      "influencers kkt: 475.0\n",
      "influencers hierarchy orig: 475.0\n",
      "influencers hierarchy improved: 475.0\n",
      "csr communities hierarchy original: 471.0000000000001\n",
      "\n",
      "\n",
      "Infinite SIR model:\n",
      "influencers hierarchy with centrality: 475\n",
      "influencers kkt: 475\n",
      "influencers hierarchy orig: 475\n",
      "influencers hierarchy improved: 475\n",
      "csr communities hierarchy original: 471\n",
      "\n",
      "\n",
      "linear threshold model:\n",
      "influencers centrality: 264.1\n",
      "csr communities shapley: 88.6\n",
      "influencers shapley: 74.9\n",
      "csr communities hierarchy improved: 68.1\n",
      "influencers hierarchy with centrality: 63.5\n",
      "\n",
      "\n",
      "SIR model:\n",
      "influencers hierarchy with centrality: 475.0\n",
      "influencers kkt: 475.0\n",
      "influencers hierarchy orig: 475.0\n",
      "influencers hierarchy improved: 475.0\n",
      "csr communities hierarchy original: 471.0000000000001\n",
      "\n",
      "\n",
      "Infinite SIR model:\n",
      "influencers hierarchy with centrality: 475\n",
      "influencers kkt: 475\n",
      "influencers hierarchy orig: 475\n",
      "influencers hierarchy improved: 475\n",
      "csr communities hierarchy original: 471\n",
      "\n",
      "\n",
      "linear threshold model:\n",
      "influencers centrality: 254.1\n",
      "influencers hierarchy with centrality: 146.79999999999998\n",
      "influencers hierarchy improved: 146.79999999999998\n",
      "csr communities shapley: 132.1\n",
      "csr communities hierarchy improved: 97.1\n",
      "\n",
      "\n",
      "SIR model:\n",
      "influencers hierarchy with centrality: 475.0\n",
      "influencers kkt: 475.0\n",
      "influencers hierarchy orig: 475.0\n",
      "influencers hierarchy improved: 475.0\n",
      "csr communities hierarchy original: 471.0000000000001\n",
      "\n",
      "\n",
      "Infinite SIR model:\n",
      "influencers hierarchy with centrality: 475\n",
      "influencers kkt: 475\n",
      "influencers hierarchy orig: 475\n",
      "influencers hierarchy improved: 475\n",
      "csr communities hierarchy original: 471\n",
      "\n",
      "\n"
     ]
    }
   ],
   "source": [
    "for results_t in results.values():\n",
    "    for model in results_t.keys():\n",
    "      print(model + \":\")\n",
    "      for infl_alg in sorted(results_t[model], reverse=True, key=lambda x: results_t[model][x])[:5]:\n",
    "        print(infl_alg + \": \" + str(results_t[model][infl_alg]))\n",
    "      print('\\n')"
   ]
  },
  {
   "cell_type": "code",
   "execution_count": null,
   "metadata": {},
   "outputs": [],
   "source": [
    "for "
   ]
  }
 ],
 "metadata": {
  "colab": {
   "provenance": []
  },
  "kernelspec": {
   "display_name": "Python 3 (ipykernel)",
   "language": "python",
   "name": "python3"
  },
  "language_info": {
   "codemirror_mode": {
    "name": "ipython",
    "version": 3
   },
   "file_extension": ".py",
   "mimetype": "text/x-python",
   "name": "python",
   "nbconvert_exporter": "python",
   "pygments_lexer": "ipython3",
   "version": "3.12.2"
  }
 },
 "nbformat": 4,
 "nbformat_minor": 4
}
