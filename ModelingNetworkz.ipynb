{
 "cells": [
  {
   "cell_type": "markdown",
   "metadata": {
    "id": "PxkYBEBjd047"
   },
   "source": [
    "Загружаем данные о графе"
   ]
  },
  {
   "cell_type": "raw",
   "metadata": {
    "colab": {
     "base_uri": "https://localhost:8080/"
    },
    "id": "t6r-EIOOc-ub",
    "outputId": "f2cf3aab-fea6-44bb-f940-30af90767b18"
   },
   "source": []
  },
  {
   "cell_type": "code",
   "execution_count": 1,
   "metadata": {},
   "outputs": [
    {
     "name": "stdout",
     "output_type": "stream",
     "text": [
      "connected.\n",
      "HTTP request sent, awaiting response... 200 OK\n",
      "Length: 4664334 (4.4M) [application/x-gzip]\n",
      "Saving to: ‘amazon0302.txt.gz’\n",
      "\n",
      "amazon0302.txt.gz   100%[===================>]   4.45M  1.76MB/s    in 2.5s    \n",
      "\n",
      "2024-05-21 14:24:17 (1.76 MB/s) - ‘amazon0302.txt.gz’ saved [4664334/4664334]\n",
      "\n"
     ]
    }
   ],
   "source": [
    "!wget https://snap.stanford.edu/data/amazon0302.txt.gz"
   ]
  },
  {
   "cell_type": "code",
   "execution_count": 2,
   "metadata": {},
   "outputs": [
    {
     "name": "stdout",
     "output_type": "stream",
     "text": [
      "gzip: ./amazon0302.txt already exists; do you wish to overwrite (y or n)? ^C\n"
     ]
    }
   ],
   "source": [
    "!gzip -d ./amazon0302.txt.gz"
   ]
  },
  {
   "cell_type": "code",
   "execution_count": null,
   "metadata": {},
   "outputs": [
    {
     "name": "stdout",
     "output_type": "stream",
     "text": [
      "--2024-05-21 15:11:57--  https://snap.stanford.edu/data/congress_network.zip\n",
      "Resolving snap.stanford.edu (snap.stanford.edu)... 171.64.75.80, 198.41.0.4, 170.247.170.2, ...\n",
      "Connecting to snap.stanford.edu (snap.stanford.edu)|171.64.75.80|:443... connected.\n",
      "HTTP request sent, awaiting response... 200 OK\n",
      "Length: 193815 (189K) [application/zip]\n",
      "Saving to: ‘congress_network.zip’\n",
      "\n",
      "congress_network.zi 100%[===================>] 189.27K   217KB/s    in 0.9s    \n",
      "\n",
      "2024-05-21 15:11:59 (217 KB/s) - ‘congress_network.zip’ saved [193815/193815]\n",
      "\n",
      "Archive:  congress_network.zip\n",
      "replace congress_network/compute_vc.py? [y]es, [n]o, [A]ll, [N]one, [r]ename: "
     ]
    }
   ],
   "source": [
    "!wget https://snap.stanford.edu/data/congress_network.zip\n",
    "!unzip congress_network.zip\n",
    "!rm congress_network.zip"
   ]
  },
  {
   "cell_type": "code",
   "execution_count": null,
   "metadata": {
    "colab": {
     "base_uri": "https://localhost:8080/"
    },
    "id": "dtX5e4SqZxxR",
    "outputId": "25e5ac2f-92e9-4d4d-d40c-fb0300fe1751"
   },
   "outputs": [],
   "source": [
    "!wget https://snap.stanford.edu/data/wiki-Vote.txt.gz\n",
    "!gzip -d ./wiki-Vote.txt.gz"
   ]
  },
  {
   "cell_type": "code",
   "execution_count": null,
   "metadata": {
    "colab": {
     "base_uri": "https://localhost:8080/"
    },
    "id": "N-g7iQI0ZxIS",
    "outputId": "ce249bc2-49fb-4276-8745-5c204f876843"
   },
   "outputs": [],
   "source": [
    "!git clone https://github.com/OafishSpark/InfluencerSearchAlgorithms\n",
    "\n",
    "!mv /content/InfluencerSearchAlgorithms/* /content/\n",
    "!rm -rf /content/InfluencerSearchAlgorithms"
   ]
  },
  {
   "cell_type": "code",
   "execution_count": null,
   "metadata": {
    "id": "FLypI0waFfuC"
   },
   "outputs": [],
   "source": [
    "import networkx as nx\n",
    "\n",
    "import numpy as np\n",
    "from numpy import random\n",
    "\n",
    "from tqdm import tqdm"
   ]
  },
  {
   "cell_type": "code",
   "execution_count": null,
   "metadata": {
    "id": "7Wh0MhH_DP84"
   },
   "outputs": [],
   "source": [
    "from models.threshold_model import linear_threshold_model\n",
    "from models.sir_model import sir_model, sir_inf_model\n",
    "\n",
    "from influencers.greedy_kkt import greedy_kkt_influencers\n",
    "from influencers.centrality import centrality_influencers\n",
    "from influencers.shapley_value import shapley_value_influencers\n",
    "from influencers.csr import csr_influencers\n",
    "from influencers.hierarchy import hierarchy_influencers_dull, hierarchy_influencers_with_csr, hierarchy_influencers_with_centrality\n",
    "\n",
    "from communities.clustering import clustering_communities\n",
    "from communities.shapley_value import shapley_value_communities\n",
    "\n",
    "from communities.hierarchy import hierarchy_communities_original, hierarchy_communities_improved"
   ]
  },
  {
   "cell_type": "code",
   "execution_count": null,
   "metadata": {
    "id": "PDdac5TXi1qz"
   },
   "outputs": [],
   "source": [
    "graph_congress = nx.read_edgelist(\"./congress_network/congress.edgelist\", create_using=nx.DiGraph())"
   ]
  },
  {
   "cell_type": "code",
   "execution_count": null,
   "metadata": {
    "id": "dfAvZd9yi6ks"
   },
   "outputs": [],
   "source": [
    "graph_wiki_votes = nx.read_edgelist(\"./wiki-Vote.txt\", create_using=nx.DiGraph())\n",
    "nx.set_edge_attributes(graph_wiki_votes, 1, 'weight')"
   ]
  },
  {
   "cell_type": "code",
   "execution_count": null,
   "metadata": {
    "id": "4P8lR_RxxCdm"
   },
   "outputs": [],
   "source": [
    "subgraph_wiki_votes = nx.subgraph(graph_wiki_votes, list(graph_wiki_votes.nodes)[1530:1730])"
   ]
  },
  {
   "cell_type": "code",
   "execution_count": null,
   "metadata": {},
   "outputs": [],
   "source": [
    "# graph_epinions = nx.read_edgelist(\"./wiki-Talk.txt\", create_using=nx.DiGraph())\n",
    "# nx.set_edge_attributes(graph_epinions, 1, 'weight')"
   ]
  },
  {
   "cell_type": "code",
   "execution_count": null,
   "metadata": {},
   "outputs": [],
   "source": [
    "# subgraph_epinions = nx.subgraph(graph_epinions, list(graph_epinions.nodes)[0:100])"
   ]
  },
  {
   "cell_type": "code",
   "execution_count": null,
   "metadata": {
    "id": "As8KcqvS8Ywg"
   },
   "outputs": [],
   "source": [
    "graphs = {\n",
    "    \"graph congress\": graph_congress,\n",
    "    \"graph wiki votes\": subgraph_wiki_votes,\n",
    "    # \"graph epinions\": subgraph_epinions,\n",
    "}"
   ]
  },
  {
   "cell_type": "code",
   "execution_count": null,
   "metadata": {
    "colab": {
     "base_uri": "https://localhost:8080/"
    },
    "id": "KE2k0ASdFywJ",
    "outputId": "bac09f9f-bfa6-4568-848f-e86a6b5740f6"
   },
   "outputs": [],
   "source": [
    "for name in graphs.keys():\n",
    "  print(name)\n",
    "  graph = graphs[name]\n",
    "  print(graph.number_of_nodes())\n",
    "  print(graph.number_of_edges())\n",
    "  print(nx.density(graph))\n",
    "  print(nx.number_strongly_connected_components(graph))\n",
    "  print(\"\")"
   ]
  },
  {
   "cell_type": "code",
   "execution_count": null,
   "metadata": {
    "id": "a1d8VYl9cAlT"
   },
   "outputs": [],
   "source": [
    "graph = graphs[\"graph congress\"]\n",
    "# graph = graphs[\"graph epinions\"]\n",
    "# graph = graphs[\"graph wiki votes\"]"
   ]
  },
  {
   "cell_type": "markdown",
   "metadata": {
    "id": "Lee7PpY8GeUx"
   },
   "source": [
    "Communities"
   ]
  },
  {
   "cell_type": "code",
   "execution_count": null,
   "metadata": {
    "id": "BpVAupU-GdvK"
   },
   "outputs": [],
   "source": [
    "communities = {\n",
    "    \"communities shapley\": shapley_value_communities(graph, 5),\n",
    "    \"communities clusters\": clustering_communities(graph, 5),\n",
    "    \"communities hierarchy original\": hierarchy_communities_original(graph, 5),\n",
    "    \"communities hierarchy improved\": hierarchy_communities_improved(graph, 5)\n",
    "}"
   ]
  },
  {
   "cell_type": "markdown",
   "metadata": {
    "id": "WW8FfZDrHRsy"
   },
   "source": [
    "Influencers"
   ]
  },
  {
   "cell_type": "code",
   "execution_count": null,
   "metadata": {
    "id": "UQvxq6SFHVs5"
   },
   "outputs": [],
   "source": [
    "influencers_pack = {\n",
    "    \"influencers hierarchy with centrality\": hierarchy_influencers_with_centrality(graph, 5),\n",
    "    \"influencers shapley\": shapley_value_influencers(graph, 5),\n",
    "    \"influencers centrality\": centrality_influencers(graph, 5),\n",
    "    \"influencers kkt\": greedy_kkt_influencers(graph, 5),\n",
    "    \"influencers hierarchy orig\": hierarchy_influencers_dull(graph, 5),\n",
    "    \"influencers hierarchy improved\": hierarchy_influencers_with_csr(graph, 5),\n",
    "}"
   ]
  },
  {
   "cell_type": "code",
   "execution_count": null,
   "metadata": {
    "id": "NawSsEy6JsFK"
   },
   "outputs": [],
   "source": [
    "influencers_csr = dict(zip(\n",
    "    ['csr ' + name for name in communities.keys()],\n",
    "    [csr_influencers(graph, 5, community) for community in communities.values()]\n",
    "))"
   ]
  },
  {
   "cell_type": "code",
   "execution_count": null,
   "metadata": {
    "id": "K7ogfT5RS8gC"
   },
   "outputs": [],
   "source": [
    "influencers_pack.update(influencers_csr)"
   ]
  },
  {
   "cell_type": "code",
   "execution_count": null,
   "metadata": {
    "id": "tyhhiiGaL2mi"
   },
   "outputs": [],
   "source": [
    "def perform_experiment(\n",
    "    n_experiments: int,\n",
    "    graph: nx.DiGraph,\n",
    "    influencers_dict: dict,\n",
    "    time: int = 5,\n",
    ") -> dict:\n",
    "  nodes = list(graph.nodes)\n",
    "  n_nodes = len(nodes)\n",
    "  results = dict(zip(\n",
    "    [\"linear threshold model\", \"SIR model\", \"Infinite SIR model\"],\n",
    "    [dict([(name, 0) for name in influencers_dict.keys()]) for _ in range(3)]\n",
    "  ))\n",
    "  for _ in tqdm(range(n_experiments)):\n",
    "    theta = dict(zip(list(graph.nodes), random.uniform(0.01, 0.99, graph.number_of_nodes())))\n",
    "    # infection_prob = dict(zip(nodes, random.uniform(0.01, 0.99, n_nodes)))\n",
    "    # recover_prob = dict(zip(nodes, random.uniform(0.01, 0.99, n_nodes)))\n",
    "    for name in influencers_dict.keys():\n",
    "      influencers = influencers_dict[name]\n",
    "      results['linear threshold model'][name] += len(linear_threshold_model(graph, influencers, time, theta)) / n_experiments\n",
    "      results['SIR model'][name] += len(sir_model(graph, influencers, time)) / n_experiments\n",
    "  for name in influencers_dict.keys():\n",
    "    influencers = influencers_dict[name]\n",
    "    results['Infinite SIR model'][name] += len(sir_inf_model(graph, influencers, time))\n",
    "  return results"
   ]
  },
  {
   "cell_type": "code",
   "execution_count": null,
   "metadata": {
    "id": "xqxXdwTkKTXJ"
   },
   "outputs": [],
   "source": [
    "number_of_experiments = 100"
   ]
  },
  {
   "cell_type": "code",
   "execution_count": null,
   "metadata": {
    "colab": {
     "base_uri": "https://localhost:8080/"
    },
    "id": "tBtDictGNZmJ",
    "outputId": "0659b994-3120-438f-8653-262ba4346af1"
   },
   "outputs": [],
   "source": [
    "times = [4*i + 1 for i in range(10)]\n",
    "results = dict(zip(\n",
    "    times,\n",
    "    [perform_experiment(number_of_experiments, graph, influencers_pack, time) for time in times]\n",
    "))"
   ]
  },
  {
   "cell_type": "code",
   "execution_count": null,
   "metadata": {},
   "outputs": [],
   "source": [
    "times"
   ]
  },
  {
   "cell_type": "code",
   "execution_count": null,
   "metadata": {
    "colab": {
     "base_uri": "https://localhost:8080/"
    },
    "id": "XaHmK8BIXSoa",
    "outputId": "feccaf8e-0e15-48c4-dd1c-5afd5d11fd02"
   },
   "outputs": [],
   "source": [
    "results"
   ]
  },
  {
   "cell_type": "code",
   "execution_count": null,
   "metadata": {
    "colab": {
     "base_uri": "https://localhost:8080/"
    },
    "id": "FAElak-TSpeC",
    "outputId": "d3cf50da-85c6-40a2-b8f9-92ed9c252a78"
   },
   "outputs": [],
   "source": [
    "for results_t in results.values():\n",
    "    for model in results_t.keys():\n",
    "      print(model + \":\")\n",
    "      for infl_alg in sorted(results_t[model], reverse=True, key=lambda x: results_t[model][x])[:5]:\n",
    "        print(infl_alg + \": \" + str(results_t[model][infl_alg]))\n",
    "      print('\\n')"
   ]
  },
  {
   "cell_type": "code",
   "execution_count": null,
   "metadata": {},
   "outputs": [],
   "source": [
    "import matplotlib.pyplot as plt\n",
    "from copy import deepcopy"
   ]
  },
  {
   "cell_type": "code",
   "execution_count": null,
   "metadata": {},
   "outputs": [],
   "source": [
    "inner_lists = {\n",
    "    \"influencers hierarchy with centrality\": [],\n",
    "    \"influencers kkt\" : [],\n",
    "    \"influencers shapley\": [],\n",
    "    \"influencers centrality\": [],\n",
    "    \"influencers kkt\": [],\n",
    "    \"influencers hierarchy orig\": [],\n",
    "    \"influencers hierarchy improved\": [],\n",
    "    \"csr communities shapley\": [],\n",
    "    \"csr communities clusters\": [],\n",
    "    \"csr communities hierarchy original\": [],\n",
    "    \"csr communities hierarchy improved\": [],\n",
    "}\n",
    "\n",
    "results_lists = {\n",
    "    \"linear threshold model\": inner_lists,\n",
    "    \"SIR model\": deepcopy(inner_lists),\n",
    "    \"Infinite SIR model\": deepcopy(inner_lists),\n",
    "}\n",
    "\n",
    "for t in times:\n",
    "    for model in results[t].keys():\n",
    "        for key in results[t][model].keys():\n",
    "            results_lists[model][key].append(results[t][model][key])"
   ]
  },
  {
   "cell_type": "code",
   "execution_count": null,
   "metadata": {},
   "outputs": [],
   "source": [
    "results_lists['linear threshold model']['influencers hierarchy with centrality']"
   ]
  },
  {
   "cell_type": "code",
   "execution_count": null,
   "metadata": {},
   "outputs": [],
   "source": [
    "fig, ax = plt.subplots()\n",
    "\n",
    "for key in results_lists[\"linear threshold model\"]:\n",
    "    if key != \"influencers hierarchy improved\":\n",
    "        ax.plot(times, results_lists[\"linear threshold model\"][key], label = key)\n",
    "\n",
    "plt.legend(loc='upper left')\n",
    "\n",
    "plt.show()"
   ]
  },
  {
   "cell_type": "code",
   "execution_count": null,
   "metadata": {},
   "outputs": [],
   "source": [
    "fig, ax = plt.subplots()\n",
    "\n",
    "for key in results_lists[\"SIR model\"]:\n",
    "    if key != \"influencers hierarchy improved\":\n",
    "        ax.plot(times, results_lists[\"SIR model\"][key], label = key)\n",
    "\n",
    "plt.legend(loc='upper left')\n",
    "\n",
    "plt.show()"
   ]
  },
  {
   "cell_type": "code",
   "execution_count": null,
   "metadata": {},
   "outputs": [],
   "source": [
    "nx.draw(graph)"
   ]
  },
  {
   "cell_type": "code",
   "execution_count": null,
   "metadata": {},
   "outputs": [],
   "source": [
    "for community in communities.keys(): \n",
    "    print(community, nx.community.modularity(graph, communities[community]))"
   ]
  },
  {
   "cell_type": "code",
   "execution_count": null,
   "metadata": {},
   "outputs": [],
   "source": [
    "for community in communities.keys(): \n",
    "    print(community, nx.community.partition_quality(graph, communities[community]))"
   ]
  },
  {
   "cell_type": "code",
   "execution_count": null,
   "metadata": {},
   "outputs": [],
   "source": [
    "nx_communities = nx.community.greedy_modularity_communities(graph, 10)\n",
    "print(nx.community.modularity(graph, nx_communities))\n",
    "print(nx.community.partition_quality(graph, nx_communities))"
   ]
  },
  {
   "cell_type": "code",
   "execution_count": null,
   "metadata": {},
   "outputs": [],
   "source": [
    "edges = list(graph.edges)\n",
    "edges[0]"
   ]
  },
  {
   "cell_type": "code",
   "execution_count": null,
   "metadata": {},
   "outputs": [],
   "source": [
    "activating = {'a': 1, 'b': 0, 'c': 0, 'd': 2, 'e': 3, 'f': 3}\n",
    "activated = [node for node in filter(lambda x: activating[x] > 0, activating.keys())]\n",
    "activated"
   ]
  },
  {
   "cell_type": "code",
   "execution_count": null,
   "metadata": {},
   "outputs": [],
   "source": [
    "b = 0\n",
    "for a in graph.in_edges('0'):\n",
    "    b = graph.edges[a]['weight']\n",
    "b"
   ]
  },
  {
   "cell_type": "code",
   "execution_count": null,
   "metadata": {},
   "outputs": [],
   "source": [
    "nx.transitive_closure(graph)"
   ]
  },
  {
   "cell_type": "code",
   "execution_count": null,
   "metadata": {},
   "outputs": [],
   "source": [
    "nx.adjacency_matrix(graph).todense()"
   ]
  },
  {
   "cell_type": "code",
   "execution_count": null,
   "metadata": {},
   "outputs": [],
   "source": [
    "a = np.array([0, 0, 0])\n",
    "b = np.array([[1, 0, 0],[1, 0, 0],[0, 0, 1]])\n",
    "np.sum(np.logical_or(a, b[1]).astype(int))"
   ]
  }
 ],
 "metadata": {
  "colab": {
   "provenance": []
  },
  "kernelspec": {
   "display_name": "Python 3 (ipykernel)",
   "language": "python",
   "name": "python3"
  },
  "language_info": {
   "codemirror_mode": {
    "name": "ipython",
    "version": 3
   },
   "file_extension": ".py",
   "mimetype": "text/x-python",
   "name": "python",
   "nbconvert_exporter": "python",
   "pygments_lexer": "ipython3",
   "version": "3.12.2"
  }
 },
 "nbformat": 4,
 "nbformat_minor": 4
}
